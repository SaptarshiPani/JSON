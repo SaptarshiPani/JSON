{
  "nbformat": 4,
  "nbformat_minor": 0,
  "metadata": {
    "colab": {
      "name": "JSON.ipynb",
      "provenance": []
    },
    "kernelspec": {
      "name": "python3",
      "display_name": "Python 3"
    },
    "language_info": {
      "name": "python"
    }
  },
  "cells": [
    {
      "cell_type": "code",
      "metadata": {
        "id": "XcPpdFOw0dwa"
      },
      "source": [
        "import json\n",
        "fd=open(\"more.json\",'r')\n",
        "r=fd.read()\n",
        "fd.close()\n",
        "records=json.loads(r)\n"
      ],
      "execution_count": 57,
      "outputs": []
    },
    {
      "cell_type": "code",
      "metadata": {
        "colab": {
          "base_uri": "https://localhost:8080/"
        },
        "id": "Q5M9Jrp40iFi",
        "outputId": "24bb8e94-de60-45e0-f6a1-32721198d4b7"
      },
      "source": [
        "records"
      ],
      "execution_count": 58,
      "outputs": [
        {
          "output_type": "execute_result",
          "data": {
            "text/plain": [
              "{'0001': {'dt': '11.11.2022', 'name': 'Rice', 'pr': 50, 'qn': 1990},\n",
              " '0002': {'dt': '11.11.2021', 'name': 'Wheat', 'pr': 30, 'qn': 2000},\n",
              " '0003': {'dt': '12.12.2022', 'name': 'Mustard Oil', 'pr': 200, 'qn': 500},\n",
              " '0004': {'dt': '12.12.2022', 'name': 'Sunflower Oil', 'pr': 250, 'qn': 500},\n",
              " '0005': {'dt': '21.12.2022', 'name': 'Basmati Rice', 'pr': 70, 'qn': 500},\n",
              " '0006': {'dt': '21.12.2022', 'name': 'Flour', 'pr': 30, 'qn': 500},\n",
              " '0007': {'dt': '07.09.2021', 'name': 'Milk', 'pr': 50, 'qn': 50},\n",
              " '0008': {'dt': '07.09.2021', 'name': 'Paneer', 'pr': 100, 'qn': 10},\n",
              " '0009': {'dt': '10.09.2021', 'name': 'Meat_Chicken', 'pr': 200, 'qn': 50},\n",
              " '0010': {'dt': '10.09.2021', 'name': 'Meat_Mutton', 'pr': 800, 'qn': 50},\n",
              " '0011': {'dt': '10.09.2021', 'name': 'Meat_Pork', 'pr': 500, 'qn': 10},\n",
              " '0012': {'dt': '10.09.2021', 'name': 'Mushroom', 'pr': 600, 'qn': 5},\n",
              " '0013': {'dt': '11.11.2022', 'name': 'Moong Dal', 'pr': 150, 'qn': 50},\n",
              " '0014': {'dt': '11.11.2021', 'name': 'Musoor Dal', 'pr': 125, 'qn': 50},\n",
              " '0015': {'dt': '11.11.2021', 'name': 'Toor Dal', 'pr': 100, 'qn': 25},\n",
              " '0016': {'dt': '11.11.2022', 'name': 'Chana Dal', 'pr': 90, 'qn': 25},\n",
              " '0017': {'dt': '11.10.2021', 'name': 'Potato', 'pr': 30, 'qn': 100},\n",
              " '0018': {'dt': '11.10.2021', 'name': 'Onion', 'pr': 50, 'qn': 20},\n",
              " '0019': {'dt': '11.09.2021', 'name': 'Tomato', 'pr': 50, 'qn': 50},\n",
              " '0020': {'dt': '11.10.2021', 'name': 'Cucumber', 'pr': 50, 'qn': 25},\n",
              " '0021': {'dt': '10.10.2021', 'name': 'Brinjal', 'pr': 30, 'qn': 20},\n",
              " '0022': {'dt': '01.11.2021', 'name': 'Chilli', 'pr': 100, 'qn': 10},\n",
              " '0023': {'dt': '11.09.2021', 'name': 'Lemon', 'pr': 10, 'qn': 100},\n",
              " '0024': {'dt': '11.09.2021', 'name': 'Orange', 'pr': 15, 'qn': 100},\n",
              " '0025': {'dt': '11.09.2021', 'name': 'Apple', 'pr': 20, 'qn': 100},\n",
              " '0026': {'dt': '11.09.2021', 'name': 'Pinapple', 'pr': 50, 'qn': 50},\n",
              " '0027': {'dt': '11.09.2021', 'name': 'Mango', 'pr': 20, 'qn': 100},\n",
              " '0028': {'dt': '11.09.2021', 'name': 'Guava', 'pr': 10, 'qn': 100},\n",
              " '0029': {'dt': '11.11.2021', 'name': 'Tea', 'pr': 500, 'qn': -30},\n",
              " '0030': {'dt': '11.11.2022', 'name': 'Coffee', 'pr': 1000, 'qn': -3}}"
            ]
          },
          "metadata": {},
          "execution_count": 58
        }
      ]
    },
    {
      "cell_type": "code",
      "metadata": {
        "id": "-J2YC1ls0k02"
      },
      "source": [
        "prod_id = str(input(\"Enter product ID:\"))\n",
        "name = str(input(\"Enter Name:\"))\n",
        "pr = int(input(\"Enter price:\"))\n",
        "qn = int(input(\"Enter quantity:\"))\n",
        "dt=str(input(\"Expiry Date:\"))\n",
        "\n",
        "records[prod_id] = {'name': name, 'pr': pr, 'qn': qn,'dt':dt}\n",
        "\n",
        "js = json.dumps(records)\n",
        "\n",
        "fd = open(\"more.json\",'w')\n",
        "fd.write(js)\n",
        "fd.close()"
      ],
      "execution_count": null,
      "outputs": []
    },
    {
      "cell_type": "code",
      "metadata": {
        "colab": {
          "base_uri": "https://localhost:8080/"
        },
        "id": "dVKmx5rK0owN",
        "outputId": "af18fdc0-9d06-47c0-ce7f-e9fa42c8e30b"
      },
      "source": [
        "ui_prod  = str(input(\"Enter the product ID: \"))\n",
        "ui_quant = int(input(\"Enter the quantity: \"))\n",
        "\n",
        "if((records[ui_prod]['qn']-ui_quant)<0):\n",
        "  print(\"Item Not Available\")\n",
        "else:\n",
        "  print(\"Product: \", records[ui_prod]['name'])\n",
        "  print(\"Price: \", records[ui_prod]['pr'])\n",
        "  print(\"Billing Amount: \", records[ui_prod]['pr'] * ui_quant)\n",
        "\n",
        "  records[ui_prod]['qn'] = records[ui_prod]['qn'] - ui_quant\n",
        "  js = json.dumps(records)\n",
        "\n",
        "  fd = open(\"more.json\",'w')\n",
        "  fd.write(js)\n",
        "  fd.close()\n",
        "  {'prod' : ui_prod, 'qn' : ui_quant, 'amount': records[ui_prod]['pr'] * ui_quant}\n",
        "  sales = {'prod' : ui_prod, 'qn' : ui_quant, 'amount': records[ui_prod]['pr'] * ui_quant}\n",
        "  sell=json.dumps(sales)\n",
        "  fd=open(\"sale.json\",'a')\n",
        "  w=fd.write(sell)\n",
        "  fd.close()\n",
        "\n",
        "\n"
      ],
      "execution_count": 56,
      "outputs": [
        {
          "output_type": "stream",
          "name": "stdout",
          "text": [
            "Enter the product ID: 0015\n",
            "Enter the quantity: 35\n",
            "Item Not Available\n"
          ]
        }
      ]
    }
  ]
}